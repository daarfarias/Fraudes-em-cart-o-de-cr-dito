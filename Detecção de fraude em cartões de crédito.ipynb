{
 "cells": [
  {
   "cell_type": "markdown",
   "metadata": {},
   "source": [
    "# Detecção de fraude em cartões de crédito"
   ]
  },
  {
   "cell_type": "markdown",
   "metadata": {},
   "source": [
    "## Descrição\n",
    "<p></p>\n",
    "<div style=\"text-align: justify\"> Os conjuntos de dados contêm transações feitas por cartões de crédito em setembro de 2013 por titulares de cartões europeus.\n",
    "Este conjunto de dados apresenta as transações que ocorreram no período de dois dias, no qual temos 492 fraudes em 284.807 transações. O conjunto de dados é altamente desequilibrado, a classe positiva (fraudes) corresponde a 0,172% de todas as transações. </div>\n",
    "\n",
    "<div style=\"text-align: justify\">Ele contém apenas variáveis de entrada numéricas que são o resultado de uma transformação PCA. Infelizmente, devido a questões de confidencialidade, não podemos fornecer características originais e mais informações de fundo sobre os dados. As características V1, V2, etc. são os principais componentes obtidos com PCA, as únicas características que não foram transformadas com PCA são \"Time\" e \"Amount\". A variável \"Tempo\" contém os segundos transcorridos entre cada transação e a primeira transação no conjunto de dados. A variável \"Amount\" é a transação \"Montante\". A variável \"Class\" é a variável de resposta e toma valor 1 em caso de fraude e 0 em caso contrário. </div>\n",
    "<p>\n",
    "   <b>Dataset</b>: <a href=\"https://www.kaggle.com/mlg-ulb/creditcardfraud\">https://www.kaggle.com/mlg-ulb/creditcardfraud</a>\n"
   ]
  },
  {
   "cell_type": "markdown",
   "metadata": {},
   "source": [
    "## 1. Pacotes"
   ]
  },
  {
   "cell_type": "code",
   "execution_count": null,
   "metadata": {},
   "outputs": [],
   "source": [
    "# Importando pacotes\n",
    "library(tidyverse)\n",
    "library(caTools)\n",
    "library(caret)\n",
    "library(pROC)\n",
    "library(precrec)\n",
    "library(ROCR)\n",
    "library(modEvA)\n",
    "library(rpart)\n",
    "library(rpart.plot)\n",
    "library(scales)\n",
    "library(e1071)\n",
    "library(randomForest)\n",
    "library(descr)\n"
   ]
  },
  {
   "cell_type": "markdown",
   "metadata": {},
   "source": [
    "## 2. Importar dados"
   ]
  },
  {
   "cell_type": "code",
   "execution_count": null,
   "metadata": {},
   "outputs": [],
   "source": [
    "dados<- read.csv(\"creditcard.csv\")"
   ]
  },
  {
   "cell_type": "code",
   "execution_count": null,
   "metadata": {},
   "outputs": [],
   "source": [
    "# Visualização das 5 primeiras linhas\n",
    "head(dados)"
   ]
  },
  {
   "cell_type": "code",
   "execution_count": null,
   "metadata": {},
   "outputs": [],
   "source": [
    "# Visualização das 5 últimas linhas\n",
    "tail(dados)"
   ]
  },
  {
   "cell_type": "code",
   "execution_count": null,
   "metadata": {},
   "outputs": [],
   "source": [
    "# Sumário dos dados\n",
    "summary(dados)"
   ]
  },
  {
   "cell_type": "markdown",
   "metadata": {},
   "source": [
    "## 3. Preparar dados\n"
   ]
  },
  {
   "cell_type": "markdown",
   "metadata": {},
   "source": [
    "<i> Após ter uma visão geral do dataset com as funções head() e tail(), devemos checar a existência de valores nulos (NAs) para uma possível correção, e transformar a variável \"Class\" em factor."
   ]
  },
  {
   "cell_type": "code",
   "execution_count": null,
   "metadata": {},
   "outputs": [],
   "source": [
    "# Checar NA\n",
    "f=function(x){any(is.na(x))}\n",
    "check.na=apply(dados,2,f);\n",
    "check.na"
   ]
  },
  {
   "cell_type": "code",
   "execution_count": null,
   "metadata": {},
   "outputs": [],
   "source": [
    "# Variável Class como factor\n",
    "dados$Class<- as.factor(dados$Class)"
   ]
  },
  {
   "cell_type": "markdown",
   "metadata": {},
   "source": [
    "## Explorar os dados"
   ]
  },
  {
   "cell_type": "code",
   "execution_count": null,
   "metadata": {},
   "outputs": [],
   "source": [
    "# Visualização resumida de colunas e dados\n",
    "glimpse(dados)"
   ]
  },
  {
   "cell_type": "markdown",
   "metadata": {},
   "source": [
    "<i> <div style=\"text-align: justify\"> Como podemos ver abaixo, há grande discrepância entre o número de transações legais e de transações fraudulentas na contagem dos valores da variável \"Class\". Essa desproporcionalidade fica mais clara quando a visualizamos no gráfico de barras. </div> </i>"
   ]
  },
  {
   "cell_type": "code",
   "execution_count": null,
   "metadata": {},
   "outputs": [],
   "source": [
    "# Contagem da variável Class\n",
    "table(dados$Class)"
   ]
  },
  {
   "cell_type": "code",
   "execution_count": null,
   "metadata": {},
   "outputs": [],
   "source": [
    "# Gráfico de barras da váriável Class\n",
    "dados %>%\n",
    "  ggplot(aes(factor(Class), fill = factor(Class))) +\n",
    "  geom_bar()"
   ]
  },
  {
   "cell_type": "markdown",
   "metadata": {},
   "source": [
    "## 4. Construindo modelo"
   ]
  },
  {
   "cell_type": "markdown",
   "metadata": {},
   "source": [
    "<i> Nós temos um problema de classificação quando desejamos estimar o número de transações fraudulentas com cartão de crédito, uma vez que determinada transação pode ser categorizada como (1) fraude e (0) legal. Deste modo, usaremos os seguintes algorítimos: Logistic Regression e Decision Tree. </i>\n"
   ]
  },
  {
   "cell_type": "code",
   "execution_count": null,
   "metadata": {},
   "outputs": [],
   "source": [
    "# Divisão entre treinamento e teste\n",
    "\n",
    "set.seed(123)\n",
    "divisao<- sample.split(dados$Class, SplitRatio = 0.7)\n",
    "treinamento<- subset(dados, divisao == T)\n",
    "teste<- subset(dados, divisao == F)"
   ]
  },
  {
   "cell_type": "code",
   "execution_count": null,
   "metadata": {},
   "outputs": [],
   "source": [
    "# Visualizando a dimensão\n",
    "dim(treinamento)\n",
    "dim(teste)"
   ]
  },
  {
   "cell_type": "code",
   "execution_count": null,
   "metadata": {},
   "outputs": [],
   "source": [
    "# Verificação do processo de randomização\n",
    "prop.table(table(treinamento$Class))\n",
    "prop.table(table(teste$Class))\n"
   ]
  },
  {
   "cell_type": "markdown",
   "metadata": {},
   "source": [
    "### 4.1 Regressão Logística"
   ]
  },
  {
   "cell_type": "code",
   "execution_count": null,
   "metadata": {},
   "outputs": [],
   "source": [
    "# Modelo glm\n",
    "\n",
    "model_glm<- glm(Class ~ ., treinamento, family = binomial(link = \"logit\"))"
   ]
  },
  {
   "cell_type": "code",
   "execution_count": null,
   "metadata": {},
   "outputs": [],
   "source": [
    "# Predição do modelo\n",
    "predict_glm<- predict(model_glm, teste[,-31], type = \"response\")\n"
   ]
  },
  {
   "cell_type": "code",
   "execution_count": null,
   "metadata": {},
   "outputs": [],
   "source": [
    "# Visualização do desempenho (matriz de confusão)\n",
    "\n",
    "previsoes<- ifelse(predict_glm > 0.5, 1, 0)\n",
    "matriz_confusao<- table(teste[,31], previsoes)\n",
    "confusionMatrix(matriz_confusao, positive = \"1\")\n"
   ]
  },
  {
   "cell_type": "code",
   "execution_count": null,
   "metadata": {},
   "outputs": [],
   "source": [
    "# Pseudo R ao quadrado (ajuste geral do modelo)\n",
    "\n",
    "RsqGLM(model_glm)"
   ]
  },
  {
   "cell_type": "code",
   "execution_count": null,
   "metadata": {},
   "outputs": [],
   "source": [
    "# Gráfico com acurácia geral do modelo (curva ROC)\n",
    "\n",
    "ROCRpred<- prediction(predict_glm, teste$Class)\n",
    "performance<- performance(ROCRpred, \"tpr\", \"fpr\")\n",
    "plot(performance, colorize=TRUE)"
   ]
  },
  {
   "cell_type": "code",
   "execution_count": null,
   "metadata": {},
   "outputs": [],
   "source": [
    "# Gráfico curva AUC com intervalo de confiança\n",
    "\n",
    "curva_auc <- roc(teste$Class,predict_glm,\n",
    "                smoothed = TRUE,\n",
    "                ci=TRUE, ci.alpha=0.9, stratified=FALSE,\n",
    "                plot=TRUE, auc.polygon=TRUE, max.auc.polygon=TRUE, grid=TRUE,\n",
    "                print.auc=TRUE, show.thres=TRUE)\n",
    "\n",
    "\n",
    "ci <- ci.se(curva_auc)\n",
    "plot(ci, type=\"shape\", col=\"lightblue\")"
   ]
  },
  {
   "cell_type": "code",
   "execution_count": null,
   "metadata": {},
   "outputs": [],
   "source": [
    "# Gráficos dos aspectos do modelo\n",
    "aspectos_modelo <- evalmod(scores = predict_glm, labels = teste$Class, mode=\"basic\")\n",
    "autoplot(aspectos_modelo)"
   ]
  },
  {
   "cell_type": "markdown",
   "metadata": {},
   "source": [
    "### 4.2 Árvore de decisão"
   ]
  },
  {
   "cell_type": "code",
   "execution_count": null,
   "metadata": {},
   "outputs": [],
   "source": [
    "# Modelo Decision Tree\n",
    "model_tree<- rpart(Class ~ ., data = treinamento, method = \"class\", minbucket = 10, maxdepth = 5)"
   ]
  },
  {
   "cell_type": "code",
   "execution_count": null,
   "metadata": {},
   "outputs": [],
   "source": [
    "# Plotar a árvore\n",
    "prp(model_tree, extra = 106) "
   ]
  },
  {
   "cell_type": "code",
   "execution_count": null,
   "metadata": {},
   "outputs": [],
   "source": [
    "# Predição do modelo\n",
    "predict_tree<- predict(model_tree, teste[,-31], type = \"class\")"
   ]
  },
  {
   "cell_type": "code",
   "execution_count": null,
   "metadata": {},
   "outputs": [],
   "source": [
    "# Tabela de comparação\n",
    "CrossTable(teste$Class, predict_tree, prop.chisq = FALSE, \n",
    "           prop.c = FALSE, prop.r = FALSE, dnn = c(\"Actual\", \"Predicted\"))"
   ]
  },
  {
   "cell_type": "code",
   "execution_count": null,
   "metadata": {},
   "outputs": [],
   "source": [
    "# Matriz de confusão\n",
    "confusionMatrix(predict_tree, teste$Class, positive = \"1\")"
   ]
  },
  {
   "cell_type": "markdown",
   "metadata": {},
   "source": [
    "### 4.3 Sumário dos modelos\n",
    "\n",
    "<p></p>\n",
    "Logistic Regression:\n",
    "<p></p>\n",
    "<li>Accuracy 99.93%</li>\n",
    "<li>Sensitivity 91.17%</li>\n",
    "<li>Specificity 99.93%</li>\n",
    "<p></p>\n",
    "DecisionTrees:\n",
    "    <p></p>\n",
    "<li>Accuracy 99.94%</li>\n",
    "<li>Sensitivity 81.08%</li>\n",
    "<li>Specificity 99.97%</li>\n",
    " <p></p>\n",
    " <p>\n",
    "*Sensitivity -> positivos corretamente identificados<br />  \n",
    "*Specificity -> negativos corretamente identificados</p>"
   ]
  },
  {
   "cell_type": "markdown",
   "metadata": {},
   "source": [
    "<p><i>\n",
    "Diego Ramirez<br />\n",
    "daarfarias@hotmail.com<br />\n",
    "https://github.com/daarfarias<br />\n",
    "    \n",
    "</i></p>"
   ]
  }
 ],
 "metadata": {
  "kernelspec": {
   "display_name": "R",
   "language": "R",
   "name": "ir"
  },
  "language_info": {
   "codemirror_mode": "r",
   "file_extension": ".r",
   "mimetype": "text/x-r-source",
   "name": "R",
   "pygments_lexer": "r",
   "version": "3.6.1"
  }
 },
 "nbformat": 4,
 "nbformat_minor": 4
}
