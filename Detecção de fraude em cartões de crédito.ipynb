{
 "cells": [
  {
   "cell_type": "markdown",
   "metadata": {},
   "source": [
    "# Detecção de fraude em cartões de crédito"
   ]
  },
  {
   "cell_type": "markdown",
   "metadata": {},
   "source": [
    "## Descrição\n",
    "<p></p>\n",
    "<div style=\"text-align: justify\"> Os conjuntos de dados contêm transações feitas por cartões de crédito em setembro de 2013 por titulares de cartões europeus.\n",
    "Este conjunto de dados apresenta as transações que ocorreram no período de dois dias, no qual temos 492 fraudes em 284.807 transações. O conjunto de dados é altamente desequilibrado, a classe positiva (fraudes) corresponde a 0,172% de todas as transações. </div>\n",
    "\n",
    "<div style=\"text-align: justify\">Ele contém apenas variáveis de entrada numéricas que são o resultado de uma transformação PCA. Infelizmente, devido a questões de confidencialidade, não podemos fornecer características originais e mais informações de fundo sobre os dados. As características V1, V2, etc. são os principais componentes obtidos com PCA, as únicas características que não foram transformadas com PCA são \"Time\" e \"Amount\". A variável \"Tempo\" contém os segundos transcorridos entre cada transação e a primeira transação no conjunto de dados. A variável \"Amount\" é a transação \"Montante\". A variável \"Class\" é a variável de resposta e toma valor 1 em caso de fraude e 0 em caso contrário. </div>\n",
    "<p>\n",
    "   <b>Dataset</b>: <a href=\"https://www.kaggle.com/mlg-ulb/creditcardfraud\">https://www.kaggle.com/mlg-ulb/creditcardfraud</a>\n"
   ]
  },
  {
   "cell_type": "markdown",
   "metadata": {},
   "source": [
    "## 1. Pacotes"
   ]
  },
  {
   "cell_type": "code",
   "execution_count": 1,
   "metadata": {},
   "outputs": [
    {
     "name": "stderr",
     "output_type": "stream",
     "text": [
      "Registered S3 methods overwritten by 'ggplot2':\n",
      "  method         from \n",
      "  [.quosures     rlang\n",
      "  c.quosures     rlang\n",
      "  print.quosures rlang\n",
      "Registered S3 method overwritten by 'rvest':\n",
      "  method            from\n",
      "  read_xml.response xml2\n",
      "-- Attaching packages --------------------------------------- tidyverse 1.2.1 --\n",
      "v ggplot2 3.1.1       v purrr   0.3.2  \n",
      "v tibble  2.1.1       v dplyr   0.8.0.1\n",
      "v tidyr   0.8.3       v stringr 1.4.0  \n",
      "v readr   1.3.1       v forcats 0.4.0  \n",
      "-- Conflicts ------------------------------------------ tidyverse_conflicts() --\n",
      "x dplyr::filter() masks stats::filter()\n",
      "x dplyr::lag()    masks stats::lag()\n",
      "Loading required package: lattice\n",
      "\n",
      "Attaching package: 'caret'\n",
      "\n",
      "The following object is masked from 'package:purrr':\n",
      "\n",
      "    lift\n",
      "\n",
      "Type 'citation(\"pROC\")' for a citation.\n",
      "\n",
      "Attaching package: 'pROC'\n",
      "\n",
      "The following objects are masked from 'package:stats':\n",
      "\n",
      "    cov, smooth, var\n",
      "\n",
      "Warning message:\n",
      "\"package 'precrec' was built under R version 3.6.3\"\n",
      "Attaching package: 'precrec'\n",
      "\n",
      "The following object is masked from 'package:pROC':\n",
      "\n",
      "    auc\n",
      "\n",
      "Loading required package: gplots\n",
      "\n",
      "Attaching package: 'gplots'\n",
      "\n",
      "The following object is masked from 'package:stats':\n",
      "\n",
      "    lowess\n",
      "\n",
      "\n",
      "Attaching package: 'scales'\n",
      "\n",
      "The following object is masked from 'package:purrr':\n",
      "\n",
      "    discard\n",
      "\n",
      "The following object is masked from 'package:readr':\n",
      "\n",
      "    col_factor\n",
      "\n",
      "randomForest 4.6-14\n",
      "Type rfNews() to see new features/changes/bug fixes.\n",
      "\n",
      "Attaching package: 'randomForest'\n",
      "\n",
      "The following object is masked from 'package:dplyr':\n",
      "\n",
      "    combine\n",
      "\n",
      "The following object is masked from 'package:ggplot2':\n",
      "\n",
      "    margin\n",
      "\n"
     ]
    }
   ],
   "source": [
    "# Importando pacotes\n",
    "library(tidyverse)\n",
    "library(caTools)\n",
    "library(caret)\n",
    "library(pROC)\n",
    "library(precrec)\n",
    "library(ROCR)\n",
    "library(modEvA)\n",
    "library(rpart)\n",
    "library(rpart.plot)\n",
    "library(scales)\n",
    "library(e1071)\n",
    "library(randomForest)\n",
    "library(descr)\n"
   ]
  },
  {
   "cell_type": "markdown",
   "metadata": {},
   "source": [
    "## 2. Importar dados"
   ]
  },
  {
   "cell_type": "code",
   "execution_count": 2,
   "metadata": {},
   "outputs": [],
   "source": [
    "dados<- read.csv(\"creditcard.csv\")"
   ]
  },
  {
   "cell_type": "code",
   "execution_count": 3,
   "metadata": {},
   "outputs": [
    {
     "data": {
      "text/html": [
       "<table>\n",
       "<thead><tr><th scope=col>Time</th><th scope=col>V1</th><th scope=col>V2</th><th scope=col>V3</th><th scope=col>V4</th><th scope=col>V5</th><th scope=col>V6</th><th scope=col>V7</th><th scope=col>V8</th><th scope=col>V9</th><th scope=col>...</th><th scope=col>V21</th><th scope=col>V22</th><th scope=col>V23</th><th scope=col>V24</th><th scope=col>V25</th><th scope=col>V26</th><th scope=col>V27</th><th scope=col>V28</th><th scope=col>Amount</th><th scope=col>Class</th></tr></thead>\n",
       "<tbody>\n",
       "\t<tr><td>0           </td><td>-1.3598071  </td><td>-0.07278117 </td><td>2.5363467   </td><td> 1.3781552  </td><td>-0.33832077 </td><td> 0.46238778 </td><td> 0.23959855 </td><td> 0.09869790 </td><td> 0.3637870  </td><td>...         </td><td>-0.018306778</td><td> 0.277837576</td><td>-0.11047391 </td><td> 0.06692807 </td><td> 0.1285394  </td><td>-0.1891148  </td><td> 0.133558377</td><td>-0.02105305 </td><td>149.62      </td><td>0           </td></tr>\n",
       "\t<tr><td>0           </td><td> 1.1918571  </td><td> 0.26615071 </td><td>0.1664801   </td><td> 0.4481541  </td><td> 0.06001765 </td><td>-0.08236081 </td><td>-0.07880298 </td><td> 0.08510165 </td><td>-0.2554251  </td><td>...         </td><td>-0.225775248</td><td>-0.638671953</td><td> 0.10128802 </td><td>-0.33984648 </td><td> 0.1671704  </td><td> 0.1258945  </td><td>-0.008983099</td><td> 0.01472417 </td><td>  2.69      </td><td>0           </td></tr>\n",
       "\t<tr><td>1           </td><td>-1.3583541  </td><td>-1.34016307 </td><td>1.7732093   </td><td> 0.3797796  </td><td>-0.50319813 </td><td> 1.80049938 </td><td> 0.79146096 </td><td> 0.24767579 </td><td>-1.5146543  </td><td>...         </td><td> 0.247998153</td><td> 0.771679402</td><td> 0.90941226 </td><td>-0.68928096 </td><td>-0.3276418  </td><td>-0.1390966  </td><td>-0.055352794</td><td>-0.05975184 </td><td>378.66      </td><td>0           </td></tr>\n",
       "\t<tr><td>1           </td><td>-0.9662717  </td><td>-0.18522601 </td><td>1.7929933   </td><td>-0.8632913  </td><td>-0.01030888 </td><td> 1.24720317 </td><td> 0.23760894 </td><td> 0.37743587 </td><td>-1.3870241  </td><td>...         </td><td>-0.108300452</td><td> 0.005273597</td><td>-0.19032052 </td><td>-1.17557533 </td><td> 0.6473760  </td><td>-0.2219288  </td><td> 0.062722849</td><td> 0.06145763 </td><td>123.50      </td><td>0           </td></tr>\n",
       "\t<tr><td>2           </td><td>-1.1582331  </td><td> 0.87773675 </td><td>1.5487178   </td><td> 0.4030339  </td><td>-0.40719338 </td><td> 0.09592146 </td><td> 0.59294075 </td><td>-0.27053268 </td><td> 0.8177393  </td><td>...         </td><td>-0.009430697</td><td> 0.798278495</td><td>-0.13745808 </td><td> 0.14126698 </td><td>-0.2060096  </td><td> 0.5022922  </td><td> 0.219422230</td><td> 0.21515315 </td><td> 69.99      </td><td>0           </td></tr>\n",
       "\t<tr><td>2           </td><td>-0.4259659  </td><td> 0.96052304 </td><td>1.1411093   </td><td>-0.1682521  </td><td> 0.42098688 </td><td>-0.02972755 </td><td> 0.47620095 </td><td> 0.26031433 </td><td>-0.5686714  </td><td>...         </td><td>-0.208253515</td><td>-0.559824796</td><td>-0.02639767 </td><td>-0.37142658 </td><td>-0.2327938  </td><td> 0.1059148  </td><td> 0.253844225</td><td> 0.08108026 </td><td>  3.67      </td><td>0           </td></tr>\n",
       "</tbody>\n",
       "</table>\n"
      ],
      "text/latex": [
       "\\begin{tabular}{r|lllllllllllllllllllllllllllllll}\n",
       " Time & V1 & V2 & V3 & V4 & V5 & V6 & V7 & V8 & V9 & ... & V21 & V22 & V23 & V24 & V25 & V26 & V27 & V28 & Amount & Class\\\\\n",
       "\\hline\n",
       "\t 0            & -1.3598071   & -0.07278117  & 2.5363467    &  1.3781552   & -0.33832077  &  0.46238778  &  0.23959855  &  0.09869790  &  0.3637870   & ...          & -0.018306778 &  0.277837576 & -0.11047391  &  0.06692807  &  0.1285394   & -0.1891148   &  0.133558377 & -0.02105305  & 149.62       & 0           \\\\\n",
       "\t 0            &  1.1918571   &  0.26615071  & 0.1664801    &  0.4481541   &  0.06001765  & -0.08236081  & -0.07880298  &  0.08510165  & -0.2554251   & ...          & -0.225775248 & -0.638671953 &  0.10128802  & -0.33984648  &  0.1671704   &  0.1258945   & -0.008983099 &  0.01472417  &   2.69       & 0           \\\\\n",
       "\t 1            & -1.3583541   & -1.34016307  & 1.7732093    &  0.3797796   & -0.50319813  &  1.80049938  &  0.79146096  &  0.24767579  & -1.5146543   & ...          &  0.247998153 &  0.771679402 &  0.90941226  & -0.68928096  & -0.3276418   & -0.1390966   & -0.055352794 & -0.05975184  & 378.66       & 0           \\\\\n",
       "\t 1            & -0.9662717   & -0.18522601  & 1.7929933    & -0.8632913   & -0.01030888  &  1.24720317  &  0.23760894  &  0.37743587  & -1.3870241   & ...          & -0.108300452 &  0.005273597 & -0.19032052  & -1.17557533  &  0.6473760   & -0.2219288   &  0.062722849 &  0.06145763  & 123.50       & 0           \\\\\n",
       "\t 2            & -1.1582331   &  0.87773675  & 1.5487178    &  0.4030339   & -0.40719338  &  0.09592146  &  0.59294075  & -0.27053268  &  0.8177393   & ...          & -0.009430697 &  0.798278495 & -0.13745808  &  0.14126698  & -0.2060096   &  0.5022922   &  0.219422230 &  0.21515315  &  69.99       & 0           \\\\\n",
       "\t 2            & -0.4259659   &  0.96052304  & 1.1411093    & -0.1682521   &  0.42098688  & -0.02972755  &  0.47620095  &  0.26031433  & -0.5686714   & ...          & -0.208253515 & -0.559824796 & -0.02639767  & -0.37142658  & -0.2327938   &  0.1059148   &  0.253844225 &  0.08108026  &   3.67       & 0           \\\\\n",
       "\\end{tabular}\n"
      ],
      "text/markdown": [
       "\n",
       "| Time | V1 | V2 | V3 | V4 | V5 | V6 | V7 | V8 | V9 | ... | V21 | V22 | V23 | V24 | V25 | V26 | V27 | V28 | Amount | Class |\n",
       "|---|---|---|---|---|---|---|---|---|---|---|---|---|---|---|---|---|---|---|---|---|\n",
       "| 0            | -1.3598071   | -0.07278117  | 2.5363467    |  1.3781552   | -0.33832077  |  0.46238778  |  0.23959855  |  0.09869790  |  0.3637870   | ...          | -0.018306778 |  0.277837576 | -0.11047391  |  0.06692807  |  0.1285394   | -0.1891148   |  0.133558377 | -0.02105305  | 149.62       | 0            |\n",
       "| 0            |  1.1918571   |  0.26615071  | 0.1664801    |  0.4481541   |  0.06001765  | -0.08236081  | -0.07880298  |  0.08510165  | -0.2554251   | ...          | -0.225775248 | -0.638671953 |  0.10128802  | -0.33984648  |  0.1671704   |  0.1258945   | -0.008983099 |  0.01472417  |   2.69       | 0            |\n",
       "| 1            | -1.3583541   | -1.34016307  | 1.7732093    |  0.3797796   | -0.50319813  |  1.80049938  |  0.79146096  |  0.24767579  | -1.5146543   | ...          |  0.247998153 |  0.771679402 |  0.90941226  | -0.68928096  | -0.3276418   | -0.1390966   | -0.055352794 | -0.05975184  | 378.66       | 0            |\n",
       "| 1            | -0.9662717   | -0.18522601  | 1.7929933    | -0.8632913   | -0.01030888  |  1.24720317  |  0.23760894  |  0.37743587  | -1.3870241   | ...          | -0.108300452 |  0.005273597 | -0.19032052  | -1.17557533  |  0.6473760   | -0.2219288   |  0.062722849 |  0.06145763  | 123.50       | 0            |\n",
       "| 2            | -1.1582331   |  0.87773675  | 1.5487178    |  0.4030339   | -0.40719338  |  0.09592146  |  0.59294075  | -0.27053268  |  0.8177393   | ...          | -0.009430697 |  0.798278495 | -0.13745808  |  0.14126698  | -0.2060096   |  0.5022922   |  0.219422230 |  0.21515315  |  69.99       | 0            |\n",
       "| 2            | -0.4259659   |  0.96052304  | 1.1411093    | -0.1682521   |  0.42098688  | -0.02972755  |  0.47620095  |  0.26031433  | -0.5686714   | ...          | -0.208253515 | -0.559824796 | -0.02639767  | -0.37142658  | -0.2327938   |  0.1059148   |  0.253844225 |  0.08108026  |   3.67       | 0            |\n",
       "\n"
      ],
      "text/plain": [
       "  Time V1         V2          V3        V4         V5          V6         \n",
       "1 0    -1.3598071 -0.07278117 2.5363467  1.3781552 -0.33832077  0.46238778\n",
       "2 0     1.1918571  0.26615071 0.1664801  0.4481541  0.06001765 -0.08236081\n",
       "3 1    -1.3583541 -1.34016307 1.7732093  0.3797796 -0.50319813  1.80049938\n",
       "4 1    -0.9662717 -0.18522601 1.7929933 -0.8632913 -0.01030888  1.24720317\n",
       "5 2    -1.1582331  0.87773675 1.5487178  0.4030339 -0.40719338  0.09592146\n",
       "6 2    -0.4259659  0.96052304 1.1411093 -0.1682521  0.42098688 -0.02972755\n",
       "  V7          V8          V9         ... V21          V22          V23        \n",
       "1  0.23959855  0.09869790  0.3637870 ... -0.018306778  0.277837576 -0.11047391\n",
       "2 -0.07880298  0.08510165 -0.2554251 ... -0.225775248 -0.638671953  0.10128802\n",
       "3  0.79146096  0.24767579 -1.5146543 ...  0.247998153  0.771679402  0.90941226\n",
       "4  0.23760894  0.37743587 -1.3870241 ... -0.108300452  0.005273597 -0.19032052\n",
       "5  0.59294075 -0.27053268  0.8177393 ... -0.009430697  0.798278495 -0.13745808\n",
       "6  0.47620095  0.26031433 -0.5686714 ... -0.208253515 -0.559824796 -0.02639767\n",
       "  V24         V25        V26        V27          V28         Amount Class\n",
       "1  0.06692807  0.1285394 -0.1891148  0.133558377 -0.02105305 149.62 0    \n",
       "2 -0.33984648  0.1671704  0.1258945 -0.008983099  0.01472417   2.69 0    \n",
       "3 -0.68928096 -0.3276418 -0.1390966 -0.055352794 -0.05975184 378.66 0    \n",
       "4 -1.17557533  0.6473760 -0.2219288  0.062722849  0.06145763 123.50 0    \n",
       "5  0.14126698 -0.2060096  0.5022922  0.219422230  0.21515315  69.99 0    \n",
       "6 -0.37142658 -0.2327938  0.1059148  0.253844225  0.08108026   3.67 0    "
      ]
     },
     "metadata": {},
     "output_type": "display_data"
    }
   ],
   "source": [
    "# Visualização das 5 primeiras linhas\n",
    "head(dados)"
   ]
  },
  {
   "cell_type": "code",
   "execution_count": 4,
   "metadata": {},
   "outputs": [
    {
     "data": {
      "text/html": [
       "<table>\n",
       "<thead><tr><th></th><th scope=col>Time</th><th scope=col>V1</th><th scope=col>V2</th><th scope=col>V3</th><th scope=col>V4</th><th scope=col>V5</th><th scope=col>V6</th><th scope=col>V7</th><th scope=col>V8</th><th scope=col>V9</th><th scope=col>...</th><th scope=col>V21</th><th scope=col>V22</th><th scope=col>V23</th><th scope=col>V24</th><th scope=col>V25</th><th scope=col>V26</th><th scope=col>V27</th><th scope=col>V28</th><th scope=col>Amount</th><th scope=col>Class</th></tr></thead>\n",
       "<tbody>\n",
       "\t<tr><th scope=row>284802</th><td>172785      </td><td>  0.1203164 </td><td> 0.93100513 </td><td>-0.5460121  </td><td>-0.7450968  </td><td> 1.13031398 </td><td>-0.2359732  </td><td> 0.8127221  </td><td> 0.1150929  </td><td>-0.2040635  </td><td>...         </td><td>-0.3142046  </td><td>-0.8085204  </td><td> 0.05034266 </td><td> 0.102799590</td><td>-0.4358701  </td><td> 0.1240789  </td><td> 0.217939865</td><td> 0.06880333 </td><td>  2.69      </td><td>0           </td></tr>\n",
       "\t<tr><th scope=row>284803</th><td>172786      </td><td>-11.8811179 </td><td>10.07178497 </td><td>-9.8347835  </td><td>-2.0666557  </td><td>-5.36447278 </td><td>-2.6068373  </td><td>-4.9182154  </td><td> 7.3053340  </td><td> 1.9144283  </td><td>...         </td><td> 0.2134541  </td><td> 0.1118637  </td><td> 1.01447990 </td><td>-0.509348453</td><td> 1.4368069  </td><td> 0.2500343  </td><td> 0.943651172</td><td> 0.82373096 </td><td>  0.77      </td><td>0           </td></tr>\n",
       "\t<tr><th scope=row>284804</th><td>172787      </td><td> -0.7327887 </td><td>-0.05508049 </td><td> 2.0350297  </td><td>-0.7385886  </td><td> 0.86822940 </td><td> 1.0584153  </td><td> 0.0243297  </td><td> 0.2948687  </td><td> 0.5848000  </td><td>...         </td><td> 0.2142053  </td><td> 0.9243836  </td><td> 0.01246304 </td><td>-1.016225669</td><td>-0.6066240  </td><td>-0.3952551  </td><td> 0.068472470</td><td>-0.05352739 </td><td> 24.79      </td><td>0           </td></tr>\n",
       "\t<tr><th scope=row>284805</th><td>172788      </td><td>  1.9195650 </td><td>-0.30125385 </td><td>-3.2496398  </td><td>-0.5578281  </td><td> 2.63051512 </td><td> 3.0312601  </td><td>-0.2968265  </td><td> 0.7084172  </td><td> 0.4324540  </td><td>...         </td><td> 0.2320450  </td><td> 0.5782290  </td><td>-0.03750086 </td><td> 0.640133881</td><td> 0.2657455  </td><td>-0.0873706  </td><td> 0.004454772</td><td>-0.02656083 </td><td> 67.88      </td><td>0           </td></tr>\n",
       "\t<tr><th scope=row>284806</th><td>172788      </td><td> -0.2404400 </td><td> 0.53048251 </td><td> 0.7025102  </td><td> 0.6897992  </td><td>-0.37796113 </td><td> 0.6237077  </td><td>-0.6861800  </td><td> 0.6791455  </td><td> 0.3920867  </td><td>...         </td><td> 0.2652449  </td><td> 0.8000487  </td><td>-0.16329794 </td><td> 0.123205244</td><td>-0.5691589  </td><td> 0.5466685  </td><td> 0.108820735</td><td> 0.10453282 </td><td> 10.00      </td><td>0           </td></tr>\n",
       "\t<tr><th scope=row>284807</th><td>172792      </td><td> -0.5334125 </td><td>-0.18973334 </td><td> 0.7033374  </td><td>-0.5062712  </td><td>-0.01254568 </td><td>-0.6496167  </td><td> 1.5770063  </td><td>-0.4146504  </td><td> 0.4861795  </td><td>...         </td><td> 0.2610573  </td><td> 0.6430784  </td><td> 0.37677701 </td><td> 0.008797379</td><td>-0.4736487  </td><td>-0.8182671  </td><td>-0.002415309</td><td> 0.01364891 </td><td>217.00      </td><td>0           </td></tr>\n",
       "</tbody>\n",
       "</table>\n"
      ],
      "text/latex": [
       "\\begin{tabular}{r|lllllllllllllllllllllllllllllll}\n",
       "  & Time & V1 & V2 & V3 & V4 & V5 & V6 & V7 & V8 & V9 & ... & V21 & V22 & V23 & V24 & V25 & V26 & V27 & V28 & Amount & Class\\\\\n",
       "\\hline\n",
       "\t284802 & 172785       &   0.1203164  &  0.93100513  & -0.5460121   & -0.7450968   &  1.13031398  & -0.2359732   &  0.8127221   &  0.1150929   & -0.2040635   & ...          & -0.3142046   & -0.8085204   &  0.05034266  &  0.102799590 & -0.4358701   &  0.1240789   &  0.217939865 &  0.06880333  &   2.69       & 0           \\\\\n",
       "\t284803 & 172786       & -11.8811179  & 10.07178497  & -9.8347835   & -2.0666557   & -5.36447278  & -2.6068373   & -4.9182154   &  7.3053340   &  1.9144283   & ...          &  0.2134541   &  0.1118637   &  1.01447990  & -0.509348453 &  1.4368069   &  0.2500343   &  0.943651172 &  0.82373096  &   0.77       & 0           \\\\\n",
       "\t284804 & 172787       &  -0.7327887  & -0.05508049  &  2.0350297   & -0.7385886   &  0.86822940  &  1.0584153   &  0.0243297   &  0.2948687   &  0.5848000   & ...          &  0.2142053   &  0.9243836   &  0.01246304  & -1.016225669 & -0.6066240   & -0.3952551   &  0.068472470 & -0.05352739  &  24.79       & 0           \\\\\n",
       "\t284805 & 172788       &   1.9195650  & -0.30125385  & -3.2496398   & -0.5578281   &  2.63051512  &  3.0312601   & -0.2968265   &  0.7084172   &  0.4324540   & ...          &  0.2320450   &  0.5782290   & -0.03750086  &  0.640133881 &  0.2657455   & -0.0873706   &  0.004454772 & -0.02656083  &  67.88       & 0           \\\\\n",
       "\t284806 & 172788       &  -0.2404400  &  0.53048251  &  0.7025102   &  0.6897992   & -0.37796113  &  0.6237077   & -0.6861800   &  0.6791455   &  0.3920867   & ...          &  0.2652449   &  0.8000487   & -0.16329794  &  0.123205244 & -0.5691589   &  0.5466685   &  0.108820735 &  0.10453282  &  10.00       & 0           \\\\\n",
       "\t284807 & 172792       &  -0.5334125  & -0.18973334  &  0.7033374   & -0.5062712   & -0.01254568  & -0.6496167   &  1.5770063   & -0.4146504   &  0.4861795   & ...          &  0.2610573   &  0.6430784   &  0.37677701  &  0.008797379 & -0.4736487   & -0.8182671   & -0.002415309 &  0.01364891  & 217.00       & 0           \\\\\n",
       "\\end{tabular}\n"
      ],
      "text/markdown": [
       "\n",
       "| <!--/--> | Time | V1 | V2 | V3 | V4 | V5 | V6 | V7 | V8 | V9 | ... | V21 | V22 | V23 | V24 | V25 | V26 | V27 | V28 | Amount | Class |\n",
       "|---|---|---|---|---|---|---|---|---|---|---|---|---|---|---|---|---|---|---|---|---|---|\n",
       "| 284802 | 172785       |   0.1203164  |  0.93100513  | -0.5460121   | -0.7450968   |  1.13031398  | -0.2359732   |  0.8127221   |  0.1150929   | -0.2040635   | ...          | -0.3142046   | -0.8085204   |  0.05034266  |  0.102799590 | -0.4358701   |  0.1240789   |  0.217939865 |  0.06880333  |   2.69       | 0            |\n",
       "| 284803 | 172786       | -11.8811179  | 10.07178497  | -9.8347835   | -2.0666557   | -5.36447278  | -2.6068373   | -4.9182154   |  7.3053340   |  1.9144283   | ...          |  0.2134541   |  0.1118637   |  1.01447990  | -0.509348453 |  1.4368069   |  0.2500343   |  0.943651172 |  0.82373096  |   0.77       | 0            |\n",
       "| 284804 | 172787       |  -0.7327887  | -0.05508049  |  2.0350297   | -0.7385886   |  0.86822940  |  1.0584153   |  0.0243297   |  0.2948687   |  0.5848000   | ...          |  0.2142053   |  0.9243836   |  0.01246304  | -1.016225669 | -0.6066240   | -0.3952551   |  0.068472470 | -0.05352739  |  24.79       | 0            |\n",
       "| 284805 | 172788       |   1.9195650  | -0.30125385  | -3.2496398   | -0.5578281   |  2.63051512  |  3.0312601   | -0.2968265   |  0.7084172   |  0.4324540   | ...          |  0.2320450   |  0.5782290   | -0.03750086  |  0.640133881 |  0.2657455   | -0.0873706   |  0.004454772 | -0.02656083  |  67.88       | 0            |\n",
       "| 284806 | 172788       |  -0.2404400  |  0.53048251  |  0.7025102   |  0.6897992   | -0.37796113  |  0.6237077   | -0.6861800   |  0.6791455   |  0.3920867   | ...          |  0.2652449   |  0.8000487   | -0.16329794  |  0.123205244 | -0.5691589   |  0.5466685   |  0.108820735 |  0.10453282  |  10.00       | 0            |\n",
       "| 284807 | 172792       |  -0.5334125  | -0.18973334  |  0.7033374   | -0.5062712   | -0.01254568  | -0.6496167   |  1.5770063   | -0.4146504   |  0.4861795   | ...          |  0.2610573   |  0.6430784   |  0.37677701  |  0.008797379 | -0.4736487   | -0.8182671   | -0.002415309 |  0.01364891  | 217.00       | 0            |\n",
       "\n"
      ],
      "text/plain": [
       "       Time   V1          V2          V3         V4         V5         \n",
       "284802 172785   0.1203164  0.93100513 -0.5460121 -0.7450968  1.13031398\n",
       "284803 172786 -11.8811179 10.07178497 -9.8347835 -2.0666557 -5.36447278\n",
       "284804 172787  -0.7327887 -0.05508049  2.0350297 -0.7385886  0.86822940\n",
       "284805 172788   1.9195650 -0.30125385 -3.2496398 -0.5578281  2.63051512\n",
       "284806 172788  -0.2404400  0.53048251  0.7025102  0.6897992 -0.37796113\n",
       "284807 172792  -0.5334125 -0.18973334  0.7033374 -0.5062712 -0.01254568\n",
       "       V6         V7         V8         V9         ... V21        V22       \n",
       "284802 -0.2359732  0.8127221  0.1150929 -0.2040635 ... -0.3142046 -0.8085204\n",
       "284803 -2.6068373 -4.9182154  7.3053340  1.9144283 ...  0.2134541  0.1118637\n",
       "284804  1.0584153  0.0243297  0.2948687  0.5848000 ...  0.2142053  0.9243836\n",
       "284805  3.0312601 -0.2968265  0.7084172  0.4324540 ...  0.2320450  0.5782290\n",
       "284806  0.6237077 -0.6861800  0.6791455  0.3920867 ...  0.2652449  0.8000487\n",
       "284807 -0.6496167  1.5770063 -0.4146504  0.4861795 ...  0.2610573  0.6430784\n",
       "       V23         V24          V25        V26        V27          V28        \n",
       "284802  0.05034266  0.102799590 -0.4358701  0.1240789  0.217939865  0.06880333\n",
       "284803  1.01447990 -0.509348453  1.4368069  0.2500343  0.943651172  0.82373096\n",
       "284804  0.01246304 -1.016225669 -0.6066240 -0.3952551  0.068472470 -0.05352739\n",
       "284805 -0.03750086  0.640133881  0.2657455 -0.0873706  0.004454772 -0.02656083\n",
       "284806 -0.16329794  0.123205244 -0.5691589  0.5466685  0.108820735  0.10453282\n",
       "284807  0.37677701  0.008797379 -0.4736487 -0.8182671 -0.002415309  0.01364891\n",
       "       Amount Class\n",
       "284802   2.69 0    \n",
       "284803   0.77 0    \n",
       "284804  24.79 0    \n",
       "284805  67.88 0    \n",
       "284806  10.00 0    \n",
       "284807 217.00 0    "
      ]
     },
     "metadata": {},
     "output_type": "display_data"
    }
   ],
   "source": [
    "# Visualização das 5 últimas linhas\n",
    "tail(dados)"
   ]
  },
  {
   "cell_type": "code",
   "execution_count": 7,
   "metadata": {},
   "outputs": [
    {
     "data": {
      "text/plain": [
       "      Time              V1                  V2                  V3          \n",
       " Min.   :     0   Min.   :-56.40751   Min.   :-72.71573   Min.   :-48.3256  \n",
       " 1st Qu.: 54202   1st Qu.: -0.92037   1st Qu.: -0.59855   1st Qu.: -0.8904  \n",
       " Median : 84692   Median :  0.01811   Median :  0.06549   Median :  0.1799  \n",
       " Mean   : 94814   Mean   :  0.00000   Mean   :  0.00000   Mean   :  0.0000  \n",
       " 3rd Qu.:139321   3rd Qu.:  1.31564   3rd Qu.:  0.80372   3rd Qu.:  1.0272  \n",
       " Max.   :172792   Max.   :  2.45493   Max.   : 22.05773   Max.   :  9.3826  \n",
       "       V4                 V5                   V6                 V7          \n",
       " Min.   :-5.68317   Min.   :-113.74331   Min.   :-26.1605   Min.   :-43.5572  \n",
       " 1st Qu.:-0.84864   1st Qu.:  -0.69160   1st Qu.: -0.7683   1st Qu.: -0.5541  \n",
       " Median :-0.01985   Median :  -0.05434   Median : -0.2742   Median :  0.0401  \n",
       " Mean   : 0.00000   Mean   :   0.00000   Mean   :  0.0000   Mean   :  0.0000  \n",
       " 3rd Qu.: 0.74334   3rd Qu.:   0.61193   3rd Qu.:  0.3986   3rd Qu.:  0.5704  \n",
       " Max.   :16.87534   Max.   :  34.80167   Max.   : 73.3016   Max.   :120.5895  \n",
       "       V8                  V9                 V10                 V11          \n",
       " Min.   :-73.21672   Min.   :-13.43407   Min.   :-24.58826   Min.   :-4.79747  \n",
       " 1st Qu.: -0.20863   1st Qu.: -0.64310   1st Qu.: -0.53543   1st Qu.:-0.76249  \n",
       " Median :  0.02236   Median : -0.05143   Median : -0.09292   Median :-0.03276  \n",
       " Mean   :  0.00000   Mean   :  0.00000   Mean   :  0.00000   Mean   : 0.00000  \n",
       " 3rd Qu.:  0.32735   3rd Qu.:  0.59714   3rd Qu.:  0.45392   3rd Qu.: 0.73959  \n",
       " Max.   : 20.00721   Max.   : 15.59500   Max.   : 23.74514   Max.   :12.01891  \n",
       "      V12                V13                V14                V15          \n",
       " Min.   :-18.6837   Min.   :-5.79188   Min.   :-19.2143   Min.   :-4.49894  \n",
       " 1st Qu.: -0.4056   1st Qu.:-0.64854   1st Qu.: -0.4256   1st Qu.:-0.58288  \n",
       " Median :  0.1400   Median :-0.01357   Median :  0.0506   Median : 0.04807  \n",
       " Mean   :  0.0000   Mean   : 0.00000   Mean   :  0.0000   Mean   : 0.00000  \n",
       " 3rd Qu.:  0.6182   3rd Qu.: 0.66251   3rd Qu.:  0.4931   3rd Qu.: 0.64882  \n",
       " Max.   :  7.8484   Max.   : 7.12688   Max.   : 10.5268   Max.   : 8.87774  \n",
       "      V16                 V17                 V18           \n",
       " Min.   :-14.12985   Min.   :-25.16280   Min.   :-9.498746  \n",
       " 1st Qu.: -0.46804   1st Qu.: -0.48375   1st Qu.:-0.498850  \n",
       " Median :  0.06641   Median : -0.06568   Median :-0.003636  \n",
       " Mean   :  0.00000   Mean   :  0.00000   Mean   : 0.000000  \n",
       " 3rd Qu.:  0.52330   3rd Qu.:  0.39968   3rd Qu.: 0.500807  \n",
       " Max.   : 17.31511   Max.   :  9.25353   Max.   : 5.041069  \n",
       "      V19                 V20                 V21           \n",
       " Min.   :-7.213527   Min.   :-54.49772   Min.   :-34.83038  \n",
       " 1st Qu.:-0.456299   1st Qu.: -0.21172   1st Qu.: -0.22839  \n",
       " Median : 0.003735   Median : -0.06248   Median : -0.02945  \n",
       " Mean   : 0.000000   Mean   :  0.00000   Mean   :  0.00000  \n",
       " 3rd Qu.: 0.458949   3rd Qu.:  0.13304   3rd Qu.:  0.18638  \n",
       " Max.   : 5.591971   Max.   : 39.42090   Max.   : 27.20284  \n",
       "      V22                  V23                 V24          \n",
       " Min.   :-10.933144   Min.   :-44.80774   Min.   :-2.83663  \n",
       " 1st Qu.: -0.542350   1st Qu.: -0.16185   1st Qu.:-0.35459  \n",
       " Median :  0.006782   Median : -0.01119   Median : 0.04098  \n",
       " Mean   :  0.000000   Mean   :  0.00000   Mean   : 0.00000  \n",
       " 3rd Qu.:  0.528554   3rd Qu.:  0.14764   3rd Qu.: 0.43953  \n",
       " Max.   : 10.503090   Max.   : 22.52841   Max.   : 4.58455  \n",
       "      V25                 V26                V27            \n",
       " Min.   :-10.29540   Min.   :-2.60455   Min.   :-22.565679  \n",
       " 1st Qu.: -0.31715   1st Qu.:-0.32698   1st Qu.: -0.070840  \n",
       " Median :  0.01659   Median :-0.05214   Median :  0.001342  \n",
       " Mean   :  0.00000   Mean   : 0.00000   Mean   :  0.000000  \n",
       " 3rd Qu.:  0.35072   3rd Qu.: 0.24095   3rd Qu.:  0.091045  \n",
       " Max.   :  7.51959   Max.   : 3.51735   Max.   : 31.612198  \n",
       "      V28                Amount         Class     \n",
       " Min.   :-15.43008   Min.   :    0.00   0:284315  \n",
       " 1st Qu.: -0.05296   1st Qu.:    5.60   1:   492  \n",
       " Median :  0.01124   Median :   22.00             \n",
       " Mean   :  0.00000   Mean   :   88.35             \n",
       " 3rd Qu.:  0.07828   3rd Qu.:   77.17             \n",
       " Max.   : 33.84781   Max.   :25691.16             "
      ]
     },
     "metadata": {},
     "output_type": "display_data"
    }
   ],
   "source": [
    "# Sumário dos dados\n",
    "summary(dados)"
   ]
  },
  {
   "cell_type": "markdown",
   "metadata": {},
   "source": [
    "## 3. Preparar dados\n"
   ]
  },
  {
   "cell_type": "markdown",
   "metadata": {},
   "source": [
    "<i> Após ter uma visão geral do dataset com as funções head() e tail(), devemos checar a existência de valores nulos (NAs) para uma possível correção, e transformar a variável \"Class\" em factor."
   ]
  },
  {
   "cell_type": "code",
   "execution_count": 5,
   "metadata": {},
   "outputs": [
    {
     "data": {
      "text/html": [
       "<dl class=dl-horizontal>\n",
       "\t<dt>Time</dt>\n",
       "\t\t<dd>FALSE</dd>\n",
       "\t<dt>V1</dt>\n",
       "\t\t<dd>FALSE</dd>\n",
       "\t<dt>V2</dt>\n",
       "\t\t<dd>FALSE</dd>\n",
       "\t<dt>V3</dt>\n",
       "\t\t<dd>FALSE</dd>\n",
       "\t<dt>V4</dt>\n",
       "\t\t<dd>FALSE</dd>\n",
       "\t<dt>V5</dt>\n",
       "\t\t<dd>FALSE</dd>\n",
       "\t<dt>V6</dt>\n",
       "\t\t<dd>FALSE</dd>\n",
       "\t<dt>V7</dt>\n",
       "\t\t<dd>FALSE</dd>\n",
       "\t<dt>V8</dt>\n",
       "\t\t<dd>FALSE</dd>\n",
       "\t<dt>V9</dt>\n",
       "\t\t<dd>FALSE</dd>\n",
       "\t<dt>V10</dt>\n",
       "\t\t<dd>FALSE</dd>\n",
       "\t<dt>V11</dt>\n",
       "\t\t<dd>FALSE</dd>\n",
       "\t<dt>V12</dt>\n",
       "\t\t<dd>FALSE</dd>\n",
       "\t<dt>V13</dt>\n",
       "\t\t<dd>FALSE</dd>\n",
       "\t<dt>V14</dt>\n",
       "\t\t<dd>FALSE</dd>\n",
       "\t<dt>V15</dt>\n",
       "\t\t<dd>FALSE</dd>\n",
       "\t<dt>V16</dt>\n",
       "\t\t<dd>FALSE</dd>\n",
       "\t<dt>V17</dt>\n",
       "\t\t<dd>FALSE</dd>\n",
       "\t<dt>V18</dt>\n",
       "\t\t<dd>FALSE</dd>\n",
       "\t<dt>V19</dt>\n",
       "\t\t<dd>FALSE</dd>\n",
       "\t<dt>V20</dt>\n",
       "\t\t<dd>FALSE</dd>\n",
       "\t<dt>V21</dt>\n",
       "\t\t<dd>FALSE</dd>\n",
       "\t<dt>V22</dt>\n",
       "\t\t<dd>FALSE</dd>\n",
       "\t<dt>V23</dt>\n",
       "\t\t<dd>FALSE</dd>\n",
       "\t<dt>V24</dt>\n",
       "\t\t<dd>FALSE</dd>\n",
       "\t<dt>V25</dt>\n",
       "\t\t<dd>FALSE</dd>\n",
       "\t<dt>V26</dt>\n",
       "\t\t<dd>FALSE</dd>\n",
       "\t<dt>V27</dt>\n",
       "\t\t<dd>FALSE</dd>\n",
       "\t<dt>V28</dt>\n",
       "\t\t<dd>FALSE</dd>\n",
       "\t<dt>Amount</dt>\n",
       "\t\t<dd>FALSE</dd>\n",
       "\t<dt>Class</dt>\n",
       "\t\t<dd>FALSE</dd>\n",
       "</dl>\n"
      ],
      "text/latex": [
       "\\begin{description*}\n",
       "\\item[Time] FALSE\n",
       "\\item[V1] FALSE\n",
       "\\item[V2] FALSE\n",
       "\\item[V3] FALSE\n",
       "\\item[V4] FALSE\n",
       "\\item[V5] FALSE\n",
       "\\item[V6] FALSE\n",
       "\\item[V7] FALSE\n",
       "\\item[V8] FALSE\n",
       "\\item[V9] FALSE\n",
       "\\item[V10] FALSE\n",
       "\\item[V11] FALSE\n",
       "\\item[V12] FALSE\n",
       "\\item[V13] FALSE\n",
       "\\item[V14] FALSE\n",
       "\\item[V15] FALSE\n",
       "\\item[V16] FALSE\n",
       "\\item[V17] FALSE\n",
       "\\item[V18] FALSE\n",
       "\\item[V19] FALSE\n",
       "\\item[V20] FALSE\n",
       "\\item[V21] FALSE\n",
       "\\item[V22] FALSE\n",
       "\\item[V23] FALSE\n",
       "\\item[V24] FALSE\n",
       "\\item[V25] FALSE\n",
       "\\item[V26] FALSE\n",
       "\\item[V27] FALSE\n",
       "\\item[V28] FALSE\n",
       "\\item[Amount] FALSE\n",
       "\\item[Class] FALSE\n",
       "\\end{description*}\n"
      ],
      "text/markdown": [
       "Time\n",
       ":   FALSEV1\n",
       ":   FALSEV2\n",
       ":   FALSEV3\n",
       ":   FALSEV4\n",
       ":   FALSEV5\n",
       ":   FALSEV6\n",
       ":   FALSEV7\n",
       ":   FALSEV8\n",
       ":   FALSEV9\n",
       ":   FALSEV10\n",
       ":   FALSEV11\n",
       ":   FALSEV12\n",
       ":   FALSEV13\n",
       ":   FALSEV14\n",
       ":   FALSEV15\n",
       ":   FALSEV16\n",
       ":   FALSEV17\n",
       ":   FALSEV18\n",
       ":   FALSEV19\n",
       ":   FALSEV20\n",
       ":   FALSEV21\n",
       ":   FALSEV22\n",
       ":   FALSEV23\n",
       ":   FALSEV24\n",
       ":   FALSEV25\n",
       ":   FALSEV26\n",
       ":   FALSEV27\n",
       ":   FALSEV28\n",
       ":   FALSEAmount\n",
       ":   FALSEClass\n",
       ":   FALSE\n",
       "\n"
      ],
      "text/plain": [
       "  Time     V1     V2     V3     V4     V5     V6     V7     V8     V9    V10 \n",
       " FALSE  FALSE  FALSE  FALSE  FALSE  FALSE  FALSE  FALSE  FALSE  FALSE  FALSE \n",
       "   V11    V12    V13    V14    V15    V16    V17    V18    V19    V20    V21 \n",
       " FALSE  FALSE  FALSE  FALSE  FALSE  FALSE  FALSE  FALSE  FALSE  FALSE  FALSE \n",
       "   V22    V23    V24    V25    V26    V27    V28 Amount  Class \n",
       " FALSE  FALSE  FALSE  FALSE  FALSE  FALSE  FALSE  FALSE  FALSE "
      ]
     },
     "metadata": {},
     "output_type": "display_data"
    }
   ],
   "source": [
    "# Checar NA\n",
    "f=function(x){any(is.na(x))}\n",
    "check.na=apply(dados,2,f);\n",
    "check.na"
   ]
  },
  {
   "cell_type": "code",
   "execution_count": 6,
   "metadata": {},
   "outputs": [],
   "source": [
    "# Variável Class como factor\n",
    "dados$Class<- as.factor(dados$Class)"
   ]
  },
  {
   "cell_type": "markdown",
   "metadata": {},
   "source": [
    "## Explorar os dados"
   ]
  },
  {
   "cell_type": "code",
   "execution_count": 8,
   "metadata": {},
   "outputs": [
    {
     "name": "stdout",
     "output_type": "stream",
     "text": [
      "Observations: 284,807\n",
      "Variables: 31\n",
      "$ Time   <dbl> 0, 0, 1, 1, 2, 2, 4, 7, 7, 9, 10, 10, 10, 11, 12, 12, 12, 13...\n",
      "$ V1     <dbl> -1.3598071, 1.1918571, -1.3583541, -0.9662717, -1.1582331, -...\n",
      "$ V2     <dbl> -0.07278117, 0.26615071, -1.34016307, -0.18522601, 0.8777367...\n",
      "$ V3     <dbl> 2.53634674, 0.16648011, 1.77320934, 1.79299334, 1.54871785, ...\n",
      "$ V4     <dbl> 1.37815522, 0.44815408, 0.37977959, -0.86329128, 0.40303393,...\n",
      "$ V5     <dbl> -0.33832077, 0.06001765, -0.50319813, -0.01030888, -0.407193...\n",
      "$ V6     <dbl> 0.46238778, -0.08236081, 1.80049938, 1.24720317, 0.09592146,...\n",
      "$ V7     <dbl> 0.239598554, -0.078802983, 0.791460956, 0.237608940, 0.59294...\n",
      "$ V8     <dbl> 0.098697901, 0.085101655, 0.247675787, 0.377435875, -0.27053...\n",
      "$ V9     <dbl> 0.3637870, -0.2554251, -1.5146543, -1.3870241, 0.8177393, -0...\n",
      "$ V10    <dbl> 0.09079417, -0.16697441, 0.20764287, -0.05495192, 0.75307443...\n",
      "$ V11    <dbl> -0.55159953, 1.61272666, 0.62450146, -0.22648726, -0.8228428...\n",
      "$ V12    <dbl> -0.61780086, 1.06523531, 0.06608369, 0.17822823, 0.53819555,...\n",
      "$ V13    <dbl> -0.99138985, 0.48909502, 0.71729273, 0.50775687, 1.34585159,...\n",
      "$ V14    <dbl> -0.31116935, -0.14377230, -0.16594592, -0.28792375, -1.11966...\n",
      "$ V15    <dbl> 1.468176972, 0.635558093, 2.345864949, -0.631418118, 0.17512...\n",
      "$ V16    <dbl> -0.47040053, 0.46391704, -2.89008319, -1.05964725, -0.451449...\n",
      "$ V17    <dbl> 0.207971242, -0.114804663, 1.109969379, -0.684092786, -0.237...\n",
      "$ V18    <dbl> 0.02579058, -0.18336127, -0.12135931, 1.96577500, -0.0381947...\n",
      "$ V19    <dbl> 0.40399296, -0.14578304, -2.26185710, -1.23262197, 0.8034869...\n",
      "$ V20    <dbl> 0.25141210, -0.06908314, 0.52497973, -0.20803778, 0.40854236...\n",
      "$ V21    <dbl> -0.018306778, -0.225775248, 0.247998153, -0.108300452, -0.00...\n",
      "$ V22    <dbl> 0.277837576, -0.638671953, 0.771679402, 0.005273597, 0.79827...\n",
      "$ V23    <dbl> -0.110473910, 0.101288021, 0.909412262, -0.190320519, -0.137...\n",
      "$ V24    <dbl> 0.06692807, -0.33984648, -0.68928096, -1.17557533, 0.1412669...\n",
      "$ V25    <dbl> 0.12853936, 0.16717040, -0.32764183, 0.64737603, -0.20600959...\n",
      "$ V26    <dbl> -0.18911484, 0.12589453, -0.13909657, -0.22192884, 0.5022922...\n",
      "$ V27    <dbl> 0.133558377, -0.008983099, -0.055352794, 0.062722849, 0.2194...\n",
      "$ V28    <dbl> -0.021053053, 0.014724169, -0.059751841, 0.061457629, 0.2151...\n",
      "$ Amount <dbl> 149.62, 2.69, 378.66, 123.50, 69.99, 3.67, 4.99, 40.80, 93.2...\n",
      "$ Class  <fct> 0, 0, 0, 0, 0, 0, 0, 0, 0, 0, 0, 0, 0, 0, 0, 0, 0, 0, 0, 0, ...\n"
     ]
    }
   ],
   "source": [
    "# Visualização resumida de colunas e dados\n",
    "glimpse(dados)"
   ]
  },
  {
   "cell_type": "markdown",
   "metadata": {},
   "source": [
    "<i> <div style=\"text-align: justify\"> Como podemos ver abaixo, há grande discrepância entre o número de transações legais e de transações fraudulentas na contagem dos valores da variável \"Class\". Essa desproporcionalidade fica mais clara quando a visualizamos no gráfico de barras. </div> </i>"
   ]
  },
  {
   "cell_type": "code",
   "execution_count": 9,
   "metadata": {},
   "outputs": [
    {
     "data": {
      "text/plain": [
       "\n",
       "     0      1 \n",
       "284315    492 "
      ]
     },
     "metadata": {},
     "output_type": "display_data"
    }
   ],
   "source": [
    "# Contagem da variável Class\n",
    "table(dados$Class)"
   ]
  },
  {
   "cell_type": "code",
   "execution_count": 15,
   "metadata": {},
   "outputs": [
    {
     "data": {
      "image/png": "[encoded data removed]",
      "text/plain": [
       "plot without title"
      ]
     },
     "metadata": {},
     "output_type": "display_data"
    }
   ],
   "source": [
    "# Gráfico de barras da váriável Class\n",
    "dados %>%\n",
    "  ggplot(aes(factor(Class), fill = factor(Class))) +\n",
    "  geom_bar()"
   ]
  },
  {
   "cell_type": "markdown",
   "metadata": {},
   "source": [
    "## 4. Construindo modelo"
   ]
  },
  {
   "cell_type": "markdown",
   "metadata": {},
   "source": [
    "<i> Nós temos um problema de classificação quando desejamos estimar o número de transações fraudulentas com cartão de crédito, uma vez que determinada transação pode ser categorizada como (1) fraude e (0) legal. Deste modo, usaremos os seguintes algorítimos: Logistic Regression e Decision Tree. </i>\n"
   ]
  },
  {
   "cell_type": "code",
   "execution_count": 4,
   "metadata": {},
   "outputs": [],
   "source": [
    "# Divisão entre treinamento e teste\n",
    "\n",
    "set.seed(123)\n",
    "divisao<- sample.split(dados$Class, SplitRatio = 0.7)\n",
    "treinamento<- subset(dados, divisao == T)\n",
    "teste<- subset(dados, divisao == F)"
   ]
  },
  {
   "cell_type": "code",
   "execution_count": 20,
   "metadata": {},
   "outputs": [
    {
     "data": {
      "text/html": [
       "<ol class=list-inline>\n",
       "\t<li>199364</li>\n",
       "\t<li>31</li>\n",
       "</ol>\n"
      ],
      "text/latex": [
       "\\begin{enumerate*}\n",
       "\\item 199364\n",
       "\\item 31\n",
       "\\end{enumerate*}\n"
      ],
      "text/markdown": [
       "1. 199364\n",
       "2. 31\n",
       "\n",
       "\n"
      ],
      "text/plain": [
       "[1] 199364     31"
      ]
     },
     "metadata": {},
     "output_type": "display_data"
    },
    {
     "data": {
      "text/html": [
       "<ol class=list-inline>\n",
       "\t<li>85443</li>\n",
       "\t<li>31</li>\n",
       "</ol>\n"
      ],
      "text/latex": [
       "\\begin{enumerate*}\n",
       "\\item 85443\n",
       "\\item 31\n",
       "\\end{enumerate*}\n"
      ],
      "text/markdown": [
       "1. 85443\n",
       "2. 31\n",
       "\n",
       "\n"
      ],
      "text/plain": [
       "[1] 85443    31"
      ]
     },
     "metadata": {},
     "output_type": "display_data"
    }
   ],
   "source": [
    "# Visualizando a dimensão\n",
    "dim(treinamento)\n",
    "dim(teste)"
   ]
  },
  {
   "cell_type": "code",
   "execution_count": 21,
   "metadata": {},
   "outputs": [
    {
     "data": {
      "text/plain": [
       "\n",
       "          0           1 \n",
       "0.998274513 0.001725487 "
      ]
     },
     "metadata": {},
     "output_type": "display_data"
    },
    {
     "data": {
      "text/plain": [
       "\n",
       "          0           1 \n",
       "0.998267851 0.001732149 "
      ]
     },
     "metadata": {},
     "output_type": "display_data"
    }
   ],
   "source": [
    "# Verificação do processo de randomização\n",
    "prop.table(table(treinamento$Class))\n",
    "prop.table(table(teste$Class))\n"
   ]
  },
  {
   "cell_type": "markdown",
   "metadata": {},
   "source": [
    "### 4.1 Regressão Logística"
   ]
  },
  {
   "cell_type": "code",
   "execution_count": 5,
   "metadata": {},
   "outputs": [],
   "source": [
    "# Modelo glm\n",
    "\n",
    "model_glm<- glm(Class ~ ., treinamento, family = binomial(link = \"logit\"))"
   ]
  },
  {
   "cell_type": "code",
   "execution_count": 6,
   "metadata": {},
   "outputs": [],
   "source": [
    "# Predição do modelo\n",
    "predict_glm<- predict(model_glm, teste[,-31], type = \"response\")\n"
   ]
  },
  {
   "cell_type": "code",
   "execution_count": 25,
   "metadata": {},
   "outputs": [
    {
     "data": {
      "text/plain": [
       "Confusion Matrix and Statistics\n",
       "\n",
       "   previsoes\n",
       "        0     1\n",
       "  0 85286     9\n",
       "  1    55    93\n",
       "                                         \n",
       "               Accuracy : 0.9993         \n",
       "                 95% CI : (0.999, 0.9994)\n",
       "    No Information Rate : 0.9988         \n",
       "    P-Value [Acc > NIR] : 3.607e-05      \n",
       "                                         \n",
       "                  Kappa : 0.7436         \n",
       "                                         \n",
       " Mcnemar's Test P-Value : 1.855e-08      \n",
       "                                         \n",
       "            Sensitivity : 0.911765       \n",
       "            Specificity : 0.999356       \n",
       "         Pos Pred Value : 0.628378       \n",
       "         Neg Pred Value : 0.999894       \n",
       "             Prevalence : 0.001194       \n",
       "         Detection Rate : 0.001088       \n",
       "   Detection Prevalence : 0.001732       \n",
       "      Balanced Accuracy : 0.955560       \n",
       "                                         \n",
       "       'Positive' Class : 1              \n",
       "                                         "
      ]
     },
     "metadata": {},
     "output_type": "display_data"
    }
   ],
   "source": [
    "# Visualização do desempenho (matriz de confusão)\n",
    "\n",
    "previsoes<- ifelse(predict_glm > 0.5, 1, 0)\n",
    "matriz_confusao<- table(teste[,31], previsoes)\n",
    "confusionMatrix(matriz_confusao, positive = \"1\")\n"
   ]
  },
  {
   "cell_type": "code",
   "execution_count": 24,
   "metadata": {},
   "outputs": [
    {
     "data": {
      "text/html": [
       "<dl>\n",
       "\t<dt>$CoxSnell</dt>\n",
       "\t\t<dd>0.0171032362144729</dd>\n",
       "\t<dt>$Nagelkerke</dt>\n",
       "\t\t<dd>0.681839122877294</dd>\n",
       "\t<dt>$McFadden</dt>\n",
       "\t\t<dd>0.679075186091162</dd>\n",
       "\t<dt>$Tjur</dt>\n",
       "\t\t<dd>0.602775616196312</dd>\n",
       "\t<dt>$sqPearson</dt>\n",
       "\t\t<dd>0.572965271538886</dd>\n",
       "</dl>\n"
      ],
      "text/latex": [
       "\\begin{description}\n",
       "\\item[\\$CoxSnell] 0.0171032362144729\n",
       "\\item[\\$Nagelkerke] 0.681839122877294\n",
       "\\item[\\$McFadden] 0.679075186091162\n",
       "\\item[\\$Tjur] 0.602775616196312\n",
       "\\item[\\$sqPearson] 0.572965271538886\n",
       "\\end{description}\n"
      ],
      "text/markdown": [
       "$CoxSnell\n",
       ":   0.0171032362144729\n",
       "$Nagelkerke\n",
       ":   0.681839122877294\n",
       "$McFadden\n",
       ":   0.679075186091162\n",
       "$Tjur\n",
       ":   0.602775616196312\n",
       "$sqPearson\n",
       ":   0.572965271538886\n",
       "\n",
       "\n"
      ],
      "text/plain": [
       "$CoxSnell\n",
       "[1] 0.01710324\n",
       "\n",
       "$Nagelkerke\n",
       "[1] 0.6818391\n",
       "\n",
       "$McFadden\n",
       "[1] 0.6790752\n",
       "\n",
       "$Tjur\n",
       "[1] 0.6027756\n",
       "\n",
       "$sqPearson\n",
       "[1] 0.5729653\n"
      ]
     },
     "metadata": {},
     "output_type": "display_data"
    }
   ],
   "source": [
    "# Pseudo R ao quadrado (ajuste geral do modelo)\n",
    "\n",
    "RsqGLM(model_glm)"
   ]
  },
  {
   "cell_type": "code",
   "execution_count": 27,
   "metadata": {},
   "outputs": [
    {
     "data": {
      "image/png": "[encoded data removed]",
      "text/plain": [
       "plot without title"
      ]
     },
     "metadata": {},
     "output_type": "display_data"
    }
   ],
   "source": [
    "# Gráfico com acurácia geral do modelo (curva ROC)\n",
    "\n",
    "ROCRpred<- prediction(predict_glm, teste$Class)\n",
    "performance<- performance(ROCRpred, \"tpr\", \"fpr\")\n",
    "plot(performance, colorize=TRUE)"
   ]
  },
  {
   "cell_type": "code",
   "execution_count": 28,
   "metadata": {},
   "outputs": [
    {
     "name": "stderr",
     "output_type": "stream",
     "text": [
      "Warning message in plot.ci.se(ci, type = \"shape\", col = \"lightblue\"):\n",
      "\"Low definition shape.\""
     ]
    },
    {
     "data": {
      "image/png": "[encoded data removed]",
      "text/plain": [
       "plot without title"
      ]
     },
     "metadata": {},
     "output_type": "display_data"
    }
   ],
   "source": [
    "# Gráfico curva AUC com intervalo de confiança\n",
    "\n",
    "curva_auc <- roc(teste$Class,predict_glm,\n",
    "                smoothed = TRUE,\n",
    "                ci=TRUE, ci.alpha=0.9, stratified=FALSE,\n",
    "                plot=TRUE, auc.polygon=TRUE, max.auc.polygon=TRUE, grid=TRUE,\n",
    "                print.auc=TRUE, show.thres=TRUE)\n",
    "\n",
    "\n",
    "ci <- ci.se(curva_auc)\n",
    "plot(ci, type=\"shape\", col=\"lightblue\")"
   ]
  },
  {
   "cell_type": "code",
   "execution_count": 38,
   "metadata": {},
   "outputs": [
    {
     "data": {
      "image/png": "[encoded data removed]",
      "text/plain": [
       "plot without title"
      ]
     },
     "metadata": {},
     "output_type": "display_data"
    }
   ],
   "source": [
    "# Gráficos dos aspectos do modelo\n",
    "aspectos_modelo <- evalmod(scores = predict_glm, labels = teste$Class, mode=\"basic\")\n",
    "autoplot(aspectos_modelo)"
   ]
  },
  {
   "cell_type": "markdown",
   "metadata": {},
   "source": [
    "### 4.2 Árvore de decisão"
   ]
  },
  {
   "cell_type": "code",
   "execution_count": 29,
   "metadata": {},
   "outputs": [],
   "source": [
    "# Modelo Decision Tree\n",
    "model_tree<- rpart(Class ~ ., data = treinamento, method = \"class\", minbucket = 10, maxdepth = 5)"
   ]
  },
  {
   "cell_type": "code",
   "execution_count": 30,
   "metadata": {},
   "outputs": [
    {
     "data": {
      "image/png": "[encoded data removed]",
      "text/plain": [
       "plot without title"
      ]
     },
     "metadata": {},
     "output_type": "display_data"
    }
   ],
   "source": [
    "# Plotar a árvore\n",
    "prp(model_tree, extra = 106) "
   ]
  },
  {
   "cell_type": "code",
   "execution_count": 46,
   "metadata": {},
   "outputs": [],
   "source": [
    "# Predição do modelo\n",
    "predict_tree<- predict(model_tree, teste[,-31], type = \"class\")"
   ]
  },
  {
   "cell_type": "code",
   "execution_count": 54,
   "metadata": {},
   "outputs": [
    {
     "data": {
      "text/plain": [
       "   Conteúdo das células \n",
       "|-------------------------|\n",
       "|                       N | \n",
       "|     N / Total da tabela | \n",
       "|-------------------------|\n",
       "\n",
       "===============================\n",
       "          Predicted\n",
       "Actual        0       1   Total\n",
       "-------------------------------\n",
       "0         85274      21   85295\n",
       "          0.998   0.000        \n",
       "-------------------------------\n",
       "1            28     120     148\n",
       "          0.000   0.001        \n",
       "-------------------------------\n",
       "Total     85302     141   85443\n",
       "==============================="
      ]
     },
     "metadata": {},
     "output_type": "display_data"
    }
   ],
   "source": [
    "# Tabela de comparação\n",
    "CrossTable(teste$Class, predict_tree, prop.chisq = FALSE, \n",
    "           prop.c = FALSE, prop.r = FALSE, dnn = c(\"Actual\", \"Predicted\"))"
   ]
  },
  {
   "cell_type": "code",
   "execution_count": 48,
   "metadata": {},
   "outputs": [
    {
     "data": {
      "text/plain": [
       "Confusion Matrix and Statistics\n",
       "\n",
       "          Reference\n",
       "Prediction     0     1\n",
       "         0 85274    28\n",
       "         1    21   120\n",
       "                                          \n",
       "               Accuracy : 0.9994          \n",
       "                 95% CI : (0.9992, 0.9996)\n",
       "    No Information Rate : 0.9983          \n",
       "    P-Value [Acc > NIR] : <2e-16          \n",
       "                                          \n",
       "                  Kappa : 0.8302          \n",
       "                                          \n",
       " Mcnemar's Test P-Value : 0.3914          \n",
       "                                          \n",
       "            Sensitivity : 0.810811        \n",
       "            Specificity : 0.999754        \n",
       "         Pos Pred Value : 0.851064        \n",
       "         Neg Pred Value : 0.999672        \n",
       "             Prevalence : 0.001732        \n",
       "         Detection Rate : 0.001404        \n",
       "   Detection Prevalence : 0.001650        \n",
       "      Balanced Accuracy : 0.905282        \n",
       "                                          \n",
       "       'Positive' Class : 1               \n",
       "                                          "
      ]
     },
     "metadata": {},
     "output_type": "display_data"
    }
   ],
   "source": [
    "# Matriz de confusão\n",
    "confusionMatrix(predict_tree, teste$Class, positive = \"1\")"
   ]
  },
  {
   "cell_type": "markdown",
   "metadata": {},
   "source": [
    "### 4.3 Sumário dos modelos\n",
    "\n",
    "<p></p>\n",
    "Logistic Regression:\n",
    "<p></p>\n",
    "<li>Accuracy 99.93%</li>\n",
    "<li>Sensitivity 91.17%</li>\n",
    "<li>Specificity 99.93%</li>\n",
    "<p></p>\n",
    "DecisionTrees:\n",
    "    <p></p>\n",
    "<li>Accuracy 99.94%</li>\n",
    "<li>Sensitivity 81.08%</li>\n",
    "<li>Specificity 99.97%</li>\n",
    " <p></p>\n",
    " <p>\n",
    "*Sensitivity -> positivos corretamente identificados<br />  \n",
    "*Specificity -> negativos corretamente identificados</p>"
   ]
  },
  {
   "cell_type": "markdown",
   "metadata": {},
   "source": [
    "<p><i>\n",
    "Diego Ramirez<br />\n",
    "daarfarias@hotmail.com<br />\n",
    "https://github.com/daarfarias<br />\n",
    "    \n",
    "</i></p>"
   ]
  }
 ],
 "metadata": {
  "kernelspec": {
   "display_name": "R",
   "language": "R",
   "name": "ir"
  },
  "language_info": {
   "codemirror_mode": "r",
   "file_extension": ".r",
   "mimetype": "text/x-r-source",
   "name": "R",
   "pygments_lexer": "r",
   "version": "3.6.1"
  }
 },
 "nbformat": 4,
 "nbformat_minor": 4
}
